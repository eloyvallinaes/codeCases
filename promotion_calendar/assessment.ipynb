{
 "cells": [
  {
   "cell_type": "markdown",
   "id": "3ad1e41f-fe02-4951-b752-33a3e7685625",
   "metadata": {},
   "source": [
    "# Calendar transformation"
   ]
  },
  {
   "cell_type": "markdown",
   "id": "519e79ae-08ec-4739-b86e-3ea755a26095",
   "metadata": {},
   "source": [
    "Below you can find a `calendar` dataframe  which constitutes the promotion calendar for a number of products.\n",
    "\n",
    "- `Start date` indicates the first day of a promotion and can be any day of the week,\n",
    "- `End date` is the last day of a promotion and can also be any day of the week,\n",
    "- `Product ID` represents the product undergoing the promotion,\n",
    "- `Price` refers to the final price to the customer, and\n",
    "- `Org price` is the original product of the price without the promotion (MSRP).\n",
    "\n",
    "Please write the code that you would use to change this calendar to a weekly calendar of products, with Saturday as the last day of the week as shown in below. Should part of the week be on promotion, the price should be the average price in this week."
   ]
  },
  {
   "cell_type": "code",
   "execution_count": 1,
   "id": "87864e28-c800-4299-ba44-a8f796aa84fd",
   "metadata": {},
   "outputs": [],
   "source": [
    "import pandas as pd\n",
    "\n",
    "calendar = pd.DataFrame({\n",
    "    'start_Date': ['01/01/2019', '01/01/2019', '02/15/2019'],\n",
    "    'end_Date': ['01/16/2019', '01/21/2019', '02/20/2019'],\n",
    "    'product_ID': ['A', 'B', 'A'],\n",
    "    'price': [100, 150, 150],\n",
    "    'org_Price': [200, 300, 200]\n",
    "})\n",
    "calendar = pd.DataFrame({\n",
    "    'start_Date': ['01/01/2019', '01/01/2019', '02/15/2019'],\n",
    "    'end_Date': ['01/16/2019', '01/21/2019', '02/20/2019'],\n",
    "    'product_ID': ['A', 'B', 'A'],\n",
    "    'price': [100, 150, 150],\n",
    "    'org_Price': [200, 300, 200]\n",
    "})\n",
    "\n"
   ]
  },
  {
   "cell_type": "markdown",
   "id": "8a4dd5e9-9011-4920-a19a-c834de8ec95d",
   "metadata": {},
   "source": [
    "## Expected output"
   ]
  },
  {
   "cell_type": "markdown",
   "id": "4a859c71-bbcc-42ee-9247-500847f8f8c4",
   "metadata": {},
   "source": [
    "![](result.png)"
   ]
  },
  {
   "cell_type": "markdown",
   "id": "22af35fa-1a95-4a99-9c34-cee6f267dc3f",
   "metadata": {},
   "source": [
    "## Solution\n",
    "\n"
   ]
  },
  {
   "cell_type": "markdown",
   "id": "9d12fbc3-0cca-4f46-a577-f5d470d412bf",
   "metadata": {},
   "source": [
    "<details>\n",
    "  <summary>Click to view the code</summary>\n",
    "\n",
    "```python\n",
    "    ww = []\n",
    "    # make one dayly calendar for each product\n",
    "    for p, product_cal in calendar.groupby('product_ID'):\n",
    "        # make a dayly calendar\n",
    "        weekly = pd.date_range(\n",
    "            \"12/30/2018\",  # numerically match the example\n",
    "            \"02/23/2019\"\n",
    "        ).to_frame().rename({0: 'date'}, axis=1)\n",
    "        # add names of the week and keep track of product\n",
    "        weekly['dayname']= weekly.date.dt.day_name()\n",
    "        weekly['product_ID'] = p\n",
    "        # register price as price on promotion or original price\n",
    "        for _, row in product_cal.iterrows():\n",
    "            weekly.loc[:, 'org_Price'] = row.org_Price\n",
    "            weekly.loc[row.start_Date:row.end_Date, 'price'] = row.price\n",
    "            weekly.loc[weekly.price.isna(), 'price'] = row.org_Price\n",
    "        # construct week numbers for grouping\n",
    "        prev = weekly.index[0]\n",
    "        wn=0\n",
    "        sunday_ind = weekly[weekly.dayname == 'Sunday'].index.tolist()\n",
    "        sunday_ind.append(weekly.date.max())  # add last day\n",
    "        for sun in sunday_ind:\n",
    "            weekly.loc[prev:sun, 'weeknumber'] = wn\n",
    "            prev=sun\n",
    "            wn+=1\n",
    "        # group and calculate week's average price\n",
    "        weekly['avg_price']= weekly.groupby('weeknumber').price.transform(\"mean\")\n",
    "        ww.append(weekly.copy())\n",
    "    # join calendars for both products\n",
    "    final = pd.concat(ww)\n",
    "    # show Saturdays\n",
    "    final[final.dayname == 'Saturday'].drop(\n",
    "        ['price', 'weeknumber'], axis=1\n",
    "    ).rename(\n",
    "        {'avg_price': 'price'}, axis=1\n",
    "    )\n",
    "```\n",
    "</details>\n"
   ]
  }
 ],
 "metadata": {
  "kernelspec": {
   "display_name": "Python 3 (ipykernel)",
   "language": "python",
   "name": "python3"
  },
  "language_info": {
   "codemirror_mode": {
    "name": "ipython",
    "version": 3
   },
   "file_extension": ".py",
   "mimetype": "text/x-python",
   "name": "python",
   "nbconvert_exporter": "python",
   "pygments_lexer": "ipython3",
   "version": "3.12.3"
  }
 },
 "nbformat": 4,
 "nbformat_minor": 5
}
